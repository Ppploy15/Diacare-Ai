{
 "cells": [
  {
   "cell_type": "code",
   "execution_count": 12,
   "metadata": {},
   "outputs": [
    {
     "name": "stdout",
     "output_type": "stream",
     "text": [
      "ผลลัพธ์ที่คาดการณ์: [1]\n"
     ]
    }
   ],
   "source": [
    "import numpy as np\n",
    "import pickle  # ใช้สำหรับโหลดโมเดล .pkl\n",
    "\n",
    "# โหลดโมเดลที่บันทึกไว้\n",
    "with open('xgboost_best_20250312_001315.pkl', 'rb') as file:\n",
    "    model = pickle.load(file)\n",
    "\n",
    "# ตัวอย่างข้อมูล feature_0 ถึง feature_11 (รวม 13 ค่า ถ้ามี feature เพิ่มเติมให้แก้ไขตามนั้น)\n",
    "sample_data = np.array([[0.5, 1.2, 3.4, 2.1, 0.9, 1.8, 2.7, 3.3, 0.1, 1.5, 2.6, 3.0, 1]])\n",
    "\n",
    "# ทำนายผลลัพธ์\n",
    "prediction = model.predict(sample_data)\n",
    "\n",
    "print(\"ผลลัพธ์ที่คาดการณ์:\", prediction)\n",
    "\n"
   ]
  }
 ],
 "metadata": {
  "kernelspec": {
   "display_name": "Python 3",
   "language": "python",
   "name": "python3"
  },
  "language_info": {
   "codemirror_mode": {
    "name": "ipython",
    "version": 3
   },
   "file_extension": ".py",
   "mimetype": "text/x-python",
   "name": "python",
   "nbconvert_exporter": "python",
   "pygments_lexer": "ipython3",
   "version": "3.12.0"
  }
 },
 "nbformat": 4,
 "nbformat_minor": 2
}
